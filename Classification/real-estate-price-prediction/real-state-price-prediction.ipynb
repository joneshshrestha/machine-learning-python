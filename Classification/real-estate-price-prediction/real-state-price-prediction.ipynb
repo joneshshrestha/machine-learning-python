{
 "cells": [
  {
   "cell_type": "code",
   "execution_count": 2,
   "id": "3fa51b27-0fde-4a71-a550-62bbf4408462",
   "metadata": {},
   "outputs": [],
   "source": [
    "import pandas as pd\n",
    "import numpy as np\n",
    "import matplotlib.pyplot as plt\n",
    "from sklearn.tree import DecisionTreeRegressor\n",
    "from sklearn.model_selection import train_test_split"
   ]
  },
  {
   "cell_type": "code",
   "execution_count": null,
   "id": "9b2d8e0e-d0ad-46c6-84ce-6c6732629602",
   "metadata": {},
   "outputs": [],
   "source": [
    "pd = read_csv"
   ]
  }
 ],
 "metadata": {
  "kernelspec": {
   "display_name": "Python 3 (ipykernel)",
   "language": "python",
   "name": "python3"
  },
  "language_info": {
   "codemirror_mode": {
    "name": "ipython",
    "version": 3
   },
   "file_extension": ".py",
   "mimetype": "text/x-python",
   "name": "python",
   "nbconvert_exporter": "python",
   "pygments_lexer": "ipython3",
   "version": "3.13.1"
  }
 },
 "nbformat": 4,
 "nbformat_minor": 5
}
