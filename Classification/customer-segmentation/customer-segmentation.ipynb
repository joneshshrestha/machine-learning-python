{
 "cells": [
  {
   "cell_type": "code",
   "execution_count": null,
   "id": "6b9ab825-62a2-40a9-ad62-41b725440aaf",
   "metadata": {},
   "outputs": [],
   "source": []
  }
 ],
 "metadata": {
  "kernelspec": {
   "display_name": "",
   "name": ""
  },
  "language_info": {
   "name": ""
  }
 },
 "nbformat": 4,
 "nbformat_minor": 5
}
