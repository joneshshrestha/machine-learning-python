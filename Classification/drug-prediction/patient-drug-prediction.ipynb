{
 "cells": [
  {
   "cell_type": "code",
   "execution_count": 73,
   "id": "ec8d7830",
   "metadata": {},
   "outputs": [],
   "source": [
    "import numpy as np\n",
    "import matplotlib.pyplot as plt\n",
    "import pandas as pd\n",
    "from sklearn.tree import DecisionTreeClassifier\n",
    "import sklearn.tree as tree"
   ]
  },
  {
   "cell_type": "code",
   "execution_count": 74,
   "id": "1ebb1305",
   "metadata": {},
   "outputs": [
    {
     "data": {
      "text/html": [
       "<div>\n",
       "<style scoped>\n",
       "    .dataframe tbody tr th:only-of-type {\n",
       "        vertical-align: middle;\n",
       "    }\n",
       "\n",
       "    .dataframe tbody tr th {\n",
       "        vertical-align: top;\n",
       "    }\n",
       "\n",
       "    .dataframe thead th {\n",
       "        text-align: right;\n",
       "    }\n",
       "</style>\n",
       "<table border=\"1\" class=\"dataframe\">\n",
       "  <thead>\n",
       "    <tr style=\"text-align: right;\">\n",
       "      <th></th>\n",
       "      <th>Age</th>\n",
       "      <th>Sex</th>\n",
       "      <th>BP</th>\n",
       "      <th>Cholesterol</th>\n",
       "      <th>Na_to_K</th>\n",
       "      <th>Drug</th>\n",
       "    </tr>\n",
       "  </thead>\n",
       "  <tbody>\n",
       "    <tr>\n",
       "      <th>0</th>\n",
       "      <td>23</td>\n",
       "      <td>F</td>\n",
       "      <td>HIGH</td>\n",
       "      <td>HIGH</td>\n",
       "      <td>25.355</td>\n",
       "      <td>drugY</td>\n",
       "    </tr>\n",
       "    <tr>\n",
       "      <th>1</th>\n",
       "      <td>47</td>\n",
       "      <td>M</td>\n",
       "      <td>LOW</td>\n",
       "      <td>HIGH</td>\n",
       "      <td>13.093</td>\n",
       "      <td>drugC</td>\n",
       "    </tr>\n",
       "    <tr>\n",
       "      <th>2</th>\n",
       "      <td>47</td>\n",
       "      <td>M</td>\n",
       "      <td>LOW</td>\n",
       "      <td>HIGH</td>\n",
       "      <td>10.114</td>\n",
       "      <td>drugC</td>\n",
       "    </tr>\n",
       "    <tr>\n",
       "      <th>3</th>\n",
       "      <td>28</td>\n",
       "      <td>F</td>\n",
       "      <td>NORMAL</td>\n",
       "      <td>HIGH</td>\n",
       "      <td>7.798</td>\n",
       "      <td>drugX</td>\n",
       "    </tr>\n",
       "    <tr>\n",
       "      <th>4</th>\n",
       "      <td>61</td>\n",
       "      <td>F</td>\n",
       "      <td>LOW</td>\n",
       "      <td>HIGH</td>\n",
       "      <td>18.043</td>\n",
       "      <td>drugY</td>\n",
       "    </tr>\n",
       "  </tbody>\n",
       "</table>\n",
       "</div>"
      ],
      "text/plain": [
       "   Age Sex      BP Cholesterol  Na_to_K   Drug\n",
       "0   23   F    HIGH        HIGH   25.355  drugY\n",
       "1   47   M     LOW        HIGH   13.093  drugC\n",
       "2   47   M     LOW        HIGH   10.114  drugC\n",
       "3   28   F  NORMAL        HIGH    7.798  drugX\n",
       "4   61   F     LOW        HIGH   18.043  drugY"
      ]
     },
     "execution_count": 74,
     "metadata": {},
     "output_type": "execute_result"
    }
   ],
   "source": [
    "df = pd.read_csv('drug200.csv')\n",
    "df.head()"
   ]
  },
  {
   "cell_type": "code",
   "execution_count": 75,
   "id": "fbc57baa",
   "metadata": {},
   "outputs": [
    {
     "data": {
      "text/plain": [
       "(200, 6)"
      ]
     },
     "execution_count": 75,
     "metadata": {},
     "output_type": "execute_result"
    }
   ],
   "source": [
    "df.shape"
   ]
  },
  {
   "cell_type": "code",
   "execution_count": 76,
   "id": "ae3ec60e",
   "metadata": {},
   "outputs": [
    {
     "data": {
      "text/plain": [
       "array([[23, 'F', 'HIGH', 'HIGH', 25.355],\n",
       "       [47, 'M', 'LOW', 'HIGH', 13.093],\n",
       "       [47, 'M', 'LOW', 'HIGH', 10.114],\n",
       "       [28, 'F', 'NORMAL', 'HIGH', 7.798],\n",
       "       [61, 'F', 'LOW', 'HIGH', 18.043]], dtype=object)"
      ]
     },
     "execution_count": 76,
     "metadata": {},
     "output_type": "execute_result"
    }
   ],
   "source": [
    "X = df[['Age', 'Sex', 'BP', 'Cholesterol', 'Na_to_K']].values\n",
    "X[0:5]"
   ]
  },
  {
   "cell_type": "code",
   "execution_count": 77,
   "id": "a1c7bbb6",
   "metadata": {},
   "outputs": [
    {
     "data": {
      "text/plain": [
       "array([6.269, 6.683, 6.769, 7.261, 7.285, 7.298, 7.34, 7.477, 7.49, 7.761,\n",
       "       7.798, 7.845, 8.011, 8.107, 8.151, 8.37, 8.607, 8.621, 8.7, 8.75,\n",
       "       8.966, 8.968, 9.084, 9.17, 9.281, 9.381, 9.443, 9.445, 9.475,\n",
       "       9.514, 9.567, 9.664, 9.677, 9.709, 9.712, 9.849, 9.894, 9.945,\n",
       "       10.017, 10.065, 10.067, 10.091, 10.103, 10.114, 10.189, 10.291,\n",
       "       10.292, 10.403, 10.443, 10.444, 10.446, 10.537, 10.605, 10.832,\n",
       "       10.84, 10.898, 10.977, 11.009, 11.014, 11.037, 11.198, 11.227,\n",
       "       11.262, 11.326, 11.34, 11.343, 11.349, 11.424, 11.455, 11.567,\n",
       "       11.686, 11.767, 11.871, 11.939, 11.953, 12.006, 12.26, 12.295,\n",
       "       12.307, 12.495, 12.703, 12.766, 12.854, 12.856, 12.859, 12.879,\n",
       "       12.894, 12.923, 13.091, 13.093, 13.127, 13.303, 13.313, 13.597,\n",
       "       13.598, 13.769, 13.884, 13.934, 13.935, 13.938, 13.967, 13.972,\n",
       "       14.02, 14.133, 14.16, 14.216, 14.239, 14.642, 15.015, 15.036,\n",
       "       15.156, 15.171, 15.376, 15.436, 15.478, 15.49, 15.516, 15.79,\n",
       "       15.891, 15.969, 16.275, 16.31, 16.347, 16.594, 16.724, 16.725,\n",
       "       16.753, 16.85, 17.069, 17.206, 17.211, 17.225, 17.951, 18.043,\n",
       "       18.295, 18.348, 18.457, 18.703, 18.739, 18.809, 18.991, 19.007,\n",
       "       19.011, 19.128, 19.161, 19.199, 19.221, 19.368, 19.416, 19.675,\n",
       "       19.796, 20.013, 20.489, 20.693, 20.909, 20.932, 20.942, 21.036,\n",
       "       22.456, 22.697, 22.818, 22.905, 22.963, 23.003, 23.091, 24.276,\n",
       "       24.658, 25.355, 25.395, 25.475, 25.741, 25.786, 25.893, 25.917,\n",
       "       25.969, 25.974, 26.645, 27.05, 27.064, 27.183, 27.826, 28.294,\n",
       "       28.632, 29.271, 29.45, 29.875, 30.366, 30.568, 31.686, 31.876,\n",
       "       32.922, 33.486, 33.542, 34.686, 34.997, 35.639, 37.188, 38.247],\n",
       "      dtype=object)"
      ]
     },
     "execution_count": 77,
     "metadata": {},
     "output_type": "execute_result"
    }
   ],
   "source": [
    "np.unique(X[:, 4])"
   ]
  },
  {
   "cell_type": "code",
   "execution_count": 78,
   "id": "3c80081e",
   "metadata": {},
   "outputs": [
    {
     "data": {
      "text/plain": [
       "array([[23, 0, 0, 0, 25.355],\n",
       "       [47, 1, 1, 0, 13.093],\n",
       "       [47, 1, 1, 0, 10.114],\n",
       "       [28, 0, 2, 0, 7.798],\n",
       "       [61, 0, 1, 0, 18.043]], dtype=object)"
      ]
     },
     "execution_count": 78,
     "metadata": {},
     "output_type": "execute_result"
    }
   ],
   "source": [
    "from sklearn import preprocessing\n",
    "\n",
    "le_sex = preprocessing.LabelEncoder() # we need numerical values for machine to understand\n",
    "le_sex.fit(['M', 'F']) #teaches what to fit\n",
    "X[:, 1] = le_sex.transform(X[:, 1]) #fits as per requirement, here for all row(:) and second column(1)\n",
    "\n",
    "le_bp = preprocessing.LabelEncoder()\n",
    "le_bp.fit(['HIGH', 'LOW', 'NORMAL'])\n",
    "X[:, 2] = le_bp.transform(X[:, 2])\n",
    "\n",
    "le_cho = preprocessing.LabelEncoder()\n",
    "le_cho.fit(['HIGH', 'NORMAL'])\n",
    "X[:, 3] = le_cho.transform(X[:, 3])\n",
    "\n",
    "# le_drg = preprocessing.LabelEncoder()\n",
    "# le_drg.fit(['drugA', 'drugB', 'drugC', 'drugX', 'drugY'])\n",
    "# X[:, 5] = le_drg.transform(X[:, 5])\n",
    "\n",
    "X[:5]"
   ]
  },
  {
   "cell_type": "code",
   "execution_count": 79,
   "id": "640f94c6",
   "metadata": {},
   "outputs": [
    {
     "data": {
      "text/plain": [
       "0    drugY\n",
       "1    drugC\n",
       "2    drugC\n",
       "3    drugX\n",
       "4    drugY\n",
       "Name: Drug, dtype: object"
      ]
     },
     "execution_count": 79,
     "metadata": {},
     "output_type": "execute_result"
    }
   ],
   "source": [
    "y = df['Drug']\n",
    "y[:5]"
   ]
  },
  {
   "cell_type": "code",
   "execution_count": 82,
   "id": "81fca94f",
   "metadata": {},
   "outputs": [
    {
     "name": "stdout",
     "output_type": "stream",
     "text": [
      "(140, 5) (60, 5)\n",
      "(140,) (60,)\n"
     ]
    }
   ],
   "source": [
    "# dividing data into train/test split\n",
    "# using capitalized 'X' to represent 2d array (matrix)\n",
    "from sklearn.model_selection import train_test_split\n",
    "X_train, X_test, y_train, y_test = train_test_split(X, y, test_size = 0.3, random_state = 3) \n",
    "print(X_train.shape, X_test.shape)\n",
    "print(y_train.shape, y_test.shape)"
   ]
  },
  {
   "cell_type": "code",
   "execution_count": null,
   "id": "eb3fe58e",
   "metadata": {},
   "outputs": [],
   "source": []
  }
 ],
 "metadata": {
  "kernelspec": {
   "display_name": "Python 3 (ipykernel)",
   "language": "python",
   "name": "python3"
  },
  "language_info": {
   "codemirror_mode": {
    "name": "ipython",
    "version": 3
   },
   "file_extension": ".py",
   "mimetype": "text/x-python",
   "name": "python",
   "nbconvert_exporter": "python",
   "pygments_lexer": "ipython3",
   "version": "3.10.9"
  }
 },
 "nbformat": 4,
 "nbformat_minor": 5
}
