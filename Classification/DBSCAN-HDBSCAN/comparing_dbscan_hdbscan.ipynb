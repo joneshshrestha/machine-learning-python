{
 "cells": [
  {
   "cell_type": "code",
   "execution_count": 110,
   "id": "43b46a0d",
   "metadata": {},
   "outputs": [],
   "source": [
    "import numpy as np\n",
    "import pandas as pd\n",
    "import matplotlib.pyplot as plt\n",
    "from sklearn.cluster import DBSCAN\n",
    "import hdbscan\n",
    "from sklearn.preprocessing import StandardScaler"
   ]
  },
  {
   "cell_type": "code",
   "execution_count": 111,
   "id": "c3297704",
   "metadata": {},
   "outputs": [],
   "source": [
    "# geographical tools\n",
    "import geopandas as gpd # pandas dataframe-like geodataframes for geographical data\n",
    "import contextily as ctx # used for obtaining a basemap of Canada\n",
    "from shapely.geometry import Point\n",
    "\n",
    "import warnings\n",
    "warnings.filterwarnings('ignore')"
   ]
  },
  {
   "cell_type": "code",
   "execution_count": 112,
   "id": "9f4887ae",
   "metadata": {},
   "outputs": [],
   "source": [
    "# Write a function that plots clustered locations and overlays them on a basemap.\n",
    "\n",
    "def plot_clustered_locations(df,  title='Museums Clustered by Proximity'):\n",
    "    \"\"\"\n",
    "    Plots clustered locations and overlays on a basemap.\n",
    "    \n",
    "    Parameters:\n",
    "    - df: DataFrame containing 'Latitude', 'Longitude', and 'Cluster' columns\n",
    "    - title: str, title of the plot\n",
    "    \"\"\"\n",
    "    \n",
    "    # Load the coordinates intto a GeoDataFrame\n",
    "    gdf = gpd.GeoDataFrame(df, geometry=gpd.points_from_xy(df['Longitude'], df['Latitude']), crs=\"EPSG:4326\")\n",
    "    \n",
    "    # Reproject to Web Mercator to align with basemap \n",
    "    gdf = gdf.to_crs(epsg=3857)\n",
    "    \n",
    "    # Create the plot\n",
    "    fig, ax = plt.subplots(figsize=(15, 10))\n",
    "    \n",
    "    # Separate non-noise, or clustered points from noise, or unclustered points\n",
    "    non_noise = gdf[gdf['Cluster'] != -1]\n",
    "    noise = gdf[gdf['Cluster'] == -1]\n",
    "    \n",
    "    # Plot noise points \n",
    "    noise.plot(ax=ax, color='k', markersize=30, ec='r', alpha=1, label='Noise')\n",
    "    \n",
    "    # Plot clustered points, colured by 'Cluster' number\n",
    "    non_noise.plot(ax=ax, column='Cluster', cmap='tab10', markersize=30, ec='k', legend=False, alpha=0.6)\n",
    "    \n",
    "    # Add basemap of  Canada\n",
    "    ctx.add_basemap(ax, source='./Canada.tif', zoom=4)\n",
    "    \n",
    "    # Format plot\n",
    "    plt.title(title, )\n",
    "    plt.xlabel('Longitude', )\n",
    "    plt.ylabel('Latitude', )\n",
    "    ax.set_xticks([])\n",
    "    ax.set_yticks([])\n",
    "    plt.tight_layout()\n",
    "    \n",
    "    # Show the plot\n",
    "    plt.show()"
   ]
  },
  {
   "cell_type": "code",
   "execution_count": 113,
   "id": "8095c7b3",
   "metadata": {},
   "outputs": [
    {
     "data": {
      "text/html": [
       "<div>\n",
       "<style scoped>\n",
       "    .dataframe tbody tr th:only-of-type {\n",
       "        vertical-align: middle;\n",
       "    }\n",
       "\n",
       "    .dataframe tbody tr th {\n",
       "        vertical-align: top;\n",
       "    }\n",
       "\n",
       "    .dataframe thead th {\n",
       "        text-align: right;\n",
       "    }\n",
       "</style>\n",
       "<table border=\"1\" class=\"dataframe\">\n",
       "  <thead>\n",
       "    <tr style=\"text-align: right;\">\n",
       "      <th></th>\n",
       "      <th>Index</th>\n",
       "      <th>Facility_Name</th>\n",
       "      <th>Source_Facility_Type</th>\n",
       "      <th>ODCAF_Facility_Type</th>\n",
       "      <th>Provider</th>\n",
       "      <th>Unit</th>\n",
       "      <th>Street_No</th>\n",
       "      <th>Street_Name</th>\n",
       "      <th>Postal_Code</th>\n",
       "      <th>City</th>\n",
       "      <th>Prov_Terr</th>\n",
       "      <th>Source_Format_Address</th>\n",
       "      <th>CSD_Name</th>\n",
       "      <th>CSDUID</th>\n",
       "      <th>PRUID</th>\n",
       "      <th>Latitude</th>\n",
       "      <th>Longitude</th>\n",
       "    </tr>\n",
       "  </thead>\n",
       "  <tbody>\n",
       "    <tr>\n",
       "      <th>0</th>\n",
       "      <td>1</td>\n",
       "      <td>#Hashtag Gallery</td>\n",
       "      <td>..</td>\n",
       "      <td>gallery</td>\n",
       "      <td>toronto</td>\n",
       "      <td>..</td>\n",
       "      <td>801</td>\n",
       "      <td>dundas st w</td>\n",
       "      <td>M6J 1V2</td>\n",
       "      <td>toronto</td>\n",
       "      <td>on</td>\n",
       "      <td>801 dundas st w</td>\n",
       "      <td>Toronto</td>\n",
       "      <td>3520005</td>\n",
       "      <td>35</td>\n",
       "      <td>43.65169472</td>\n",
       "      <td>-79.40803272</td>\n",
       "    </tr>\n",
       "    <tr>\n",
       "      <th>1</th>\n",
       "      <td>2</td>\n",
       "      <td>'Ksan Historical Village &amp; Museum</td>\n",
       "      <td>historic site-building or park</td>\n",
       "      <td>museum</td>\n",
       "      <td>canadian museums association</td>\n",
       "      <td>..</td>\n",
       "      <td>1500</td>\n",
       "      <td>62 hwy</td>\n",
       "      <td>V0J 1Y0</td>\n",
       "      <td>hazelton</td>\n",
       "      <td>bc</td>\n",
       "      <td>1500 hwy 62 hazelton british columbia v0j 1y0 ...</td>\n",
       "      <td>Hazelton</td>\n",
       "      <td>5949022</td>\n",
       "      <td>59</td>\n",
       "      <td>55.2645508</td>\n",
       "      <td>-127.6428124</td>\n",
       "    </tr>\n",
       "    <tr>\n",
       "      <th>2</th>\n",
       "      <td>3</td>\n",
       "      <td>'School Days' Museum</td>\n",
       "      <td>community/regional museum</td>\n",
       "      <td>museum</td>\n",
       "      <td>canadian museums association</td>\n",
       "      <td>..</td>\n",
       "      <td>427</td>\n",
       "      <td>queen st</td>\n",
       "      <td>E3B 5R6</td>\n",
       "      <td>fredericton</td>\n",
       "      <td>nb</td>\n",
       "      <td>427 queen st fredericton new brunswick e3b 5r6...</td>\n",
       "      <td>Fredericton</td>\n",
       "      <td>1310032</td>\n",
       "      <td>13</td>\n",
       "      <td>45.963283</td>\n",
       "      <td>-66.6419017</td>\n",
       "    </tr>\n",
       "    <tr>\n",
       "      <th>3</th>\n",
       "      <td>4</td>\n",
       "      <td>10 Austin Street</td>\n",
       "      <td>built heritage properties</td>\n",
       "      <td>heritage or historic site</td>\n",
       "      <td>moncton</td>\n",
       "      <td>..</td>\n",
       "      <td>10</td>\n",
       "      <td>austin st</td>\n",
       "      <td>E1C 1Z6</td>\n",
       "      <td>moncton</td>\n",
       "      <td>nb</td>\n",
       "      <td>10 austin st</td>\n",
       "      <td>Moncton</td>\n",
       "      <td>1307022</td>\n",
       "      <td>13</td>\n",
       "      <td>46.09247776</td>\n",
       "      <td>-64.78022946</td>\n",
       "    </tr>\n",
       "    <tr>\n",
       "      <th>4</th>\n",
       "      <td>5</td>\n",
       "      <td>10 Gates Dancing Inc.</td>\n",
       "      <td>arts</td>\n",
       "      <td>miscellaneous</td>\n",
       "      <td>ottawa</td>\n",
       "      <td>..</td>\n",
       "      <td>..</td>\n",
       "      <td>..</td>\n",
       "      <td>..</td>\n",
       "      <td>ottawa</td>\n",
       "      <td>on</td>\n",
       "      <td>..</td>\n",
       "      <td>Ottawa</td>\n",
       "      <td>3506008</td>\n",
       "      <td>35</td>\n",
       "      <td>45.40856224</td>\n",
       "      <td>-75.71536766</td>\n",
       "    </tr>\n",
       "  </tbody>\n",
       "</table>\n",
       "</div>"
      ],
      "text/plain": [
       "   Index                      Facility_Name            Source_Facility_Type  \\\n",
       "0      1                   #Hashtag Gallery                              ..   \n",
       "1      2  'Ksan Historical Village & Museum  historic site-building or park   \n",
       "2      3               'School Days' Museum       community/regional museum   \n",
       "3      4                   10 Austin Street       built heritage properties   \n",
       "4      5              10 Gates Dancing Inc.                            arts   \n",
       "\n",
       "         ODCAF_Facility_Type                      Provider Unit Street_No  \\\n",
       "0                    gallery                       toronto   ..       801   \n",
       "1                     museum  canadian museums association   ..      1500   \n",
       "2                     museum  canadian museums association   ..       427   \n",
       "3  heritage or historic site                       moncton   ..        10   \n",
       "4              miscellaneous                        ottawa   ..        ..   \n",
       "\n",
       "   Street_Name Postal_Code         City Prov_Terr  \\\n",
       "0  dundas st w     M6J 1V2      toronto        on   \n",
       "1       62 hwy     V0J 1Y0     hazelton        bc   \n",
       "2     queen st     E3B 5R6  fredericton        nb   \n",
       "3    austin st     E1C 1Z6      moncton        nb   \n",
       "4           ..          ..       ottawa        on   \n",
       "\n",
       "                               Source_Format_Address     CSD_Name   CSDUID  \\\n",
       "0                                    801 dundas st w      Toronto  3520005   \n",
       "1  1500 hwy 62 hazelton british columbia v0j 1y0 ...     Hazelton  5949022   \n",
       "2  427 queen st fredericton new brunswick e3b 5r6...  Fredericton  1310032   \n",
       "3                                       10 austin st      Moncton  1307022   \n",
       "4                                                 ..       Ottawa  3506008   \n",
       "\n",
       "  PRUID     Latitude     Longitude  \n",
       "0    35  43.65169472  -79.40803272  \n",
       "1    59   55.2645508  -127.6428124  \n",
       "2    13    45.963283   -66.6419017  \n",
       "3    13  46.09247776  -64.78022946  \n",
       "4    35  45.40856224  -75.71536766  "
      ]
     },
     "execution_count": 113,
     "metadata": {},
     "output_type": "execute_result"
    }
   ],
   "source": [
    "df = pd.read_csv('ODCAF_v1.0.csv', encoding='ISO-8859-1')\n",
    "df.head()"
   ]
  },
  {
   "cell_type": "code",
   "execution_count": 114,
   "id": "4dedeb85",
   "metadata": {},
   "outputs": [
    {
     "data": {
      "text/plain": [
       "ODCAF_Facility_Type\n",
       "library or archives                     3013\n",
       "museum                                  1938\n",
       "gallery                                  810\n",
       "heritage or historic site                620\n",
       "theatre/performance and concert hall     583\n",
       "festival site                            346\n",
       "miscellaneous                            343\n",
       "art or cultural centre                   225\n",
       "artist                                    94\n",
       "Name: count, dtype: int64"
      ]
     },
     "execution_count": 114,
     "metadata": {},
     "output_type": "execute_result"
    }
   ],
   "source": [
    "# display the facilty types and their counts\n",
    "df['ODCAF_Facility_Type'].value_counts()"
   ]
  },
  {
   "cell_type": "code",
   "execution_count": 115,
   "id": "936f4999",
   "metadata": {},
   "outputs": [
    {
     "data": {
      "text/plain": [
       "ODCAF_Facility_Type\n",
       "museum    1938\n",
       "Name: count, dtype: int64"
      ]
     },
     "execution_count": 115,
     "metadata": {},
     "output_type": "execute_result"
    }
   ],
   "source": [
    "df = df[df.ODCAF_Facility_Type == 'museum']\n",
    "df.ODCAF_Facility_Type.value_counts()"
   ]
  },
  {
   "cell_type": "code",
   "execution_count": 116,
   "id": "754dc28b",
   "metadata": {},
   "outputs": [
    {
     "name": "stdout",
     "output_type": "stream",
     "text": [
      "<class 'pandas.core.frame.DataFrame'>\n",
      "Index: 1938 entries, 1 to 7969\n",
      "Data columns (total 2 columns):\n",
      " #   Column     Non-Null Count  Dtype \n",
      "---  ------     --------------  ----- \n",
      " 0   Latitude   1938 non-null   object\n",
      " 1   Longitude  1938 non-null   object\n",
      "dtypes: object(2)\n",
      "memory usage: 45.4+ KB\n"
     ]
    }
   ],
   "source": [
    "df = df[['Latitude', 'Longitude']]\n",
    "df.info()"
   ]
  },
  {
   "cell_type": "code",
   "execution_count": null,
   "id": "4dcef84a",
   "metadata": {},
   "outputs": [
    {
     "name": "stdout",
     "output_type": "stream",
     "text": [
      "<class 'pandas.core.frame.DataFrame'>\n",
      "Index: 1607 entries, 1 to 7969\n",
      "Data columns (total 2 columns):\n",
      " #   Column     Non-Null Count  Dtype \n",
      "---  ------     --------------  ----- \n",
      " 0   Latitude   1607 non-null   object\n",
      " 1   Longitude  1607 non-null   object\n",
      "dtypes: object(2)\n",
      "memory usage: 37.7+ KB\n"
     ]
    }
   ],
   "source": [
    "df = df.replace('..', pd.NA)\n",
    "df = df.dropna()\n",
    "df = df.astype('float')\n",
    "df.info()"
   ]
  },
  {
   "cell_type": "code",
   "execution_count": null,
   "id": "49c41835",
   "metadata": {},
   "outputs": [],
   "source": []
  }
 ],
 "metadata": {
  "kernelspec": {
   "display_name": "Python 3",
   "language": "python",
   "name": "python3"
  },
  "language_info": {
   "codemirror_mode": {
    "name": "ipython",
    "version": 3
   },
   "file_extension": ".py",
   "mimetype": "text/x-python",
   "name": "python",
   "nbconvert_exporter": "python",
   "pygments_lexer": "ipython3",
   "version": "3.13.2"
  }
 },
 "nbformat": 4,
 "nbformat_minor": 5
}
