{
 "cells": [
  {
   "cell_type": "code",
   "execution_count": 1,
   "id": "e081b1f2",
   "metadata": {},
   "outputs": [],
   "source": [
    "import numpy as np\n",
    "import matplotlib.pyplot as plt\n",
    "from sklearn.cluster import KMeans\n",
    "from sklearn.datasets import make_blobs, make_classification\n",
    "from sklearn.metrics import silhouette_score, davies_bouldin_score, silhouette_samples\n",
    "from scipy.spatial import Voronoi, voronoi_plot_2d\n",
    "from matplotlib.patches import Patch\n",
    "from matplotlib import cm"
   ]
  },
  {
   "cell_type": "code",
   "execution_count": null,
   "id": "e8f78b94",
   "metadata": {},
   "outputs": [],
   "source": [
    "# Clustering Evaluation Function\n",
    "def evaluate_clustering(X, labels, n_clusters, ax=None, title_suffix=\"\"):\n",
    "    \"\"\"\n",
    "    Evaluate a clustering model using silhouette scores and the Davies-Bouldin index.\n",
    "\n",
    "    Parameters:\n",
    "    X (ndarray): Feature matrix.\n",
    "    labels (array-like): Cluster labels assigned to each sample.\n",
    "    n_clusters (int): The number of clusters in the model.\n",
    "    ax: The subplot axes to plot on.\n",
    "    title_suffix (str): Optional suffix for plot titlec\n",
    "\n",
    "    Returns:\n",
    "    None: Displays silhoutte scores and a silhouette plot.\n",
    "    \"\"\"\n",
    "    if ax is None:\n",
    "        ax = plt.gca()  # Get the current axis if none is provided\n",
    "\n",
    "    # Calculate silhouette scores\n",
    "    silhouette_avg = silhouette_score(X, labels)\n",
    "    sample_silhouette_values = silhouette_samples(X, labels)\n",
    "\n",
    "    # Plot silhouette analysis on the provided axis\n",
    "    unique_labels = np.unique(labels)\n",
    "    colormap = cm.tab10\n",
    "    color_dict = {label: colormap(float(label) / n_clusters) for label in unique_labels}\n",
    "    y_lower = 10\n",
    "    for i in unique_labels:\n",
    "        ith_cluster_silhouette_values = sample_silhouette_values[labels == i]\n",
    "        ith_cluster_silhouette_values.sort()\n",
    "        size_cluster_i = ith_cluster_silhouette_values.shape[0]\n",
    "        y_upper = y_lower + size_cluster_i\n",
    "        color = color_dict[i]\n",
    "        ax.fill_betweenx(\n",
    "            np.arange(y_lower, y_upper),\n",
    "            0,\n",
    "            ith_cluster_silhouette_values,\n",
    "            facecolor=color,\n",
    "            edgecolor=color,\n",
    "            alpha=0.7,\n",
    "        )\n",
    "        ax.text(-0.05, y_lower + 0.5 * size_cluster_i, str(i))\n",
    "        y_lower = y_upper + 10\n",
    "\n",
    "    ax.set_title(\n",
    "        f\"Silhouette Score for {title_suffix} \\n\"\n",
    "        + f\"Average Silhouette: {silhouette_avg:.2f}\"\n",
    "    )\n",
    "    ax.set_xlabel(\"Silhouette Coefficient\")\n",
    "    ax.set_ylabel(\"Cluster\")\n",
    "    ax.axvline(x=silhouette_avg, color=\"red\", linestyle=\"--\")\n",
    "    ax.set_xlim([-0.25, 1])  # Set the x-axis range to [0, 1]\n",
    "\n",
    "    ax.set_yticks([])"
   ]
  },
  {
   "cell_type": "code",
   "execution_count": null,
   "id": "f0780f5e",
   "metadata": {},
   "outputs": [],
   "source": [
    "# Create synthetic data with four blobs to expriment with k-means clustering\n",
    "\n",
    "X, y = make_blobs(\n",
    "    n_samples=500, n_features=2, centers=4, cluster_std=[1, 3, 5, 2], random_state=42\n",
    ")\n",
    "\n",
    "# Apply KMeans Clustering\n",
    "n_clusters = 4\n",
    "k_means = KMeans(n_clusters=n_clusters, random_state=42)\n",
    "y_kmeans = KMeans.fit_predict(X)\n",
    "\n",
    "colormap = cm.tab10\n",
    "\n",
    "# Plot the blobs\n",
    "plt.figure(figsize=(18, 6))"
   ]
  }
 ],
 "metadata": {
  "kernelspec": {
   "display_name": "Python 3",
   "language": "python",
   "name": "python3"
  },
  "language_info": {
   "codemirror_mode": {
    "name": "ipython",
    "version": 3
   },
   "file_extension": ".py",
   "mimetype": "text/x-python",
   "name": "python",
   "nbconvert_exporter": "python",
   "pygments_lexer": "ipython3",
   "version": "3.13.2"
  }
 },
 "nbformat": 4,
 "nbformat_minor": 5
}
