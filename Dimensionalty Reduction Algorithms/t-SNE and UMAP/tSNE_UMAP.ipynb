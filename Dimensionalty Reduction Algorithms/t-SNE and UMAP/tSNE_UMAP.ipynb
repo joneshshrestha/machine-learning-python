{
 "cells": [
  {
   "cell_type": "code",
   "execution_count": 5,
   "id": "820049e4",
   "metadata": {},
   "outputs": [],
   "source": [
    "import numpy as np\n",
    "import matplotlib.pyplot as plt\n",
    "import pandas as pd\n",
    "from sklearn.datasets import make_blobs\n",
    "from sklearn.preprocessing import StandardScaler\n",
    "\n",
    "import umap.umap_ as UMAP\n",
    "from sklearn.manifold import TSNE\n",
    "from sklearn.decomposition import PCA\n",
    "\n",
    "import plotly.express as px\n",
    "from sklearn.datasets import make_blobs"
   ]
  },
  {
   "cell_type": "code",
   "execution_count": 8,
   "id": "62b06699",
   "metadata": {},
   "outputs": [],
   "source": [
    "# Generate synthetic data with four clusters in a 3D space\n",
    "# Cluster centers\n",
    "centers = [[2, -6, -6],\n",
    "           [-1, 9, 4],\n",
    "           [-8,7,2],\n",
    "           [4, 7, 9]]\n",
    "\n",
    "# Cluster standard deviations:\n",
    "cluster_std = [1,1,2,3.5]\n",
    "\n",
    "# Make the blobs and return the data and the blob labels\n",
    "X, labels_ = make_blobs(n_samples=500, centers=centers, n_features=3, cluster_std=cluster_std, random_state=42)"
   ]
  },
  {
   "cell_type": "code",
   "execution_count": null,
   "id": "37ebddc3",
   "metadata": {},
   "outputs": [],
   "source": [
    "# display the data in an interactive Plotly 3D scatter plot\n",
    "# Create a DataFrame for Plotly\n",
    "df = pd.DataFrame(X, columns=['X','Y','Z'])\n",
    "\n",
    "# Create interactive 3D scatter plot\n",
    "fig = px.scatter_3d(df, x='X', y='Y', z='Z', color=labels_.astype(str), opacity=0.7,  color_discrete_sequence=px.colors.qualitative.G10, title=\"3D Scatter Plot of Four Blobs\")\n"
   ]
  }
 ],
 "metadata": {
  "kernelspec": {
   "display_name": "Python 3",
   "language": "python",
   "name": "python3"
  },
  "language_info": {
   "codemirror_mode": {
    "name": "ipython",
    "version": 3
   },
   "file_extension": ".py",
   "mimetype": "text/x-python",
   "name": "python",
   "nbconvert_exporter": "python",
   "pygments_lexer": "ipython3",
   "version": "3.13.2"
  }
 },
 "nbformat": 4,
 "nbformat_minor": 5
}
